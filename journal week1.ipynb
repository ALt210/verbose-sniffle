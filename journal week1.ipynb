{
  "nbformat": 4,
  "nbformat_minor": 0,
  "metadata": {
    "colab": {
      "name": "Untitled0.ipynb",
      "provenance": [],
      "authorship_tag": "ABX9TyOL6WovJbOP1f/kY4iVVKNP",
      "include_colab_link": true
    },
    "kernelspec": {
      "name": "python3",
      "display_name": "Python 3"
    },
    "language_info": {
      "name": "python"
    }
  },
  "cells": [
    {
      "cell_type": "markdown",
      "metadata": {
        "id": "view-in-github",
        "colab_type": "text"
      },
      "source": [
        "<a href=\"https://colab.research.google.com/github/ALt210/verbose-sniffle/blob/main/journal%20week1.ipynb\" target=\"_parent\"><img src=\"https://colab.research.google.com/assets/colab-badge.svg\" alt=\"Open In Colab\"/></a>"
      ]
    },
    {
      "cell_type": "code",
      "execution_count": null,
      "metadata": {
        "id": "NV0vMnPxxbrx"
      },
      "outputs": [],
      "source": [
        "   import random\n",
        "\n",
        "  \n",
        "  customers = ['jimmy','kim','john','stacie']\n",
        "  winner = random.choice(customers)\n",
        "  flavor = 'vanilla'\n",
        "  print('congratulations'+ winner + 'you have won an ice cream sundae!')\n",
        "  prompt = 'would you like a cherry on top?'\n",
        "  wants_cherry = input(prompt)\n",
        "  order = flavor + 'sundae'\n",
        "\n",
        "  if (wants_cherry == 'yes'):\n",
        "    order =order + 'with cherry on top'\n",
        "  \n",
        "  print('one'+ order + 'for' + winner + 'coming right up....')"
      ]
    }
  ]
}