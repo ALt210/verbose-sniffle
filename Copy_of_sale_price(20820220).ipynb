{
  "nbformat": 4,
  "nbformat_minor": 0,
  "metadata": {
    "colab": {
      "name": "Copy_of_sale_price(20820220).ipynb",
      "provenance": [],
      "collapsed_sections": [],
      "include_colab_link": true
    },
    "kernelspec": {
      "name": "python3",
      "display_name": "Python 3"
    },
    "language_info": {
      "name": "python"
    }
  },
  "cells": [
    {
      "cell_type": "markdown",
      "metadata": {
        "id": "view-in-github",
        "colab_type": "text"
      },
      "source": [
        "<a href=\"https://colab.research.google.com/github/ALt210/verbose-sniffle/blob/main/Copy_of_sale_price(20820220).ipynb\" target=\"_parent\"><img src=\"https://colab.research.google.com/assets/colab-badge.svg\" alt=\"Open In Colab\"/></a>"
      ]
    },
    {
      "cell_type": "markdown",
      "metadata": {
        "id": "cgTeiXOtSPjH"
      },
      "source": [
        "# Sales Price\n",
        "\n",
        "A local department store needs to develop a program that will computer the total price (including goods and services tax) of the item on sale when given an item's original price and discount percentage.\n",
        "\n",
        "## Tasks\n",
        "* Save to Github\n",
        "* Design Algorithm\n",
        "* Write and test the program in Python"
      ]
    },
    {
      "cell_type": "code",
      "metadata": {
        "id": "pPIN2ZcrSqdw",
        "colab": {
          "base_uri": "https://localhost:8080/"
        },
        "outputId": "99a10be1-9649-432b-fdb4-84047b9f9c87"
      },
      "source": [
        "def calculate_total_price(original_price,tax,discount):\n",
        "  discountedprice = original_price - (original_price * discount)\n",
        "  taxamount = tax * discountedprice\n",
        "  totalprice = discountedprice + taxamount\n",
        "  print(\"the discounted price is:\", discountedprice)\n",
        "  print(\"the tax amount is:\", taxamount)\n",
        "  print(\"the total price is: \", totalprice)\n",
        "\n",
        "calculate_total_price(40,0.07,0.3)"
      ],
      "execution_count": 1,
      "outputs": [
        {
          "output_type": "stream",
          "name": "stdout",
          "text": [
            "the discounted price is: 28.0\n",
            "the tax amount is: 1.9600000000000002\n",
            "the total price is:  29.96\n"
          ]
        }
      ]
    }
  ]
}