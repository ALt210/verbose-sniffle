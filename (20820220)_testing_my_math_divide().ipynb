{
  "nbformat": 4,
  "nbformat_minor": 0,
  "metadata": {
    "colab": {
      "name": "(20820220) testing_my_math.divide().ipynb",
      "provenance": [],
      "include_colab_link": true
    },
    "kernelspec": {
      "name": "python3",
      "display_name": "Python 3"
    },
    "language_info": {
      "name": "python"
    }
  },
  "cells": [
    {
      "cell_type": "markdown",
      "metadata": {
        "id": "view-in-github",
        "colab_type": "text"
      },
      "source": [
        "<a href=\"https://colab.research.google.com/github/ALt210/verbose-sniffle/blob/main/(20820220)_testing_my_math_divide().ipynb\" target=\"_parent\"><img src=\"https://colab.research.google.com/assets/colab-badge.svg\" alt=\"Open In Colab\"/></a>"
      ]
    },
    {
      "cell_type": "markdown",
      "source": [
        "## Testing  my_math.divide()\n",
        "\n",
        "What is your preferred testing strategy? Do you like using the assert statement or prefer doctest?  \n",
        "\n",
        "Using your preferred testing strategy, develop a test table and test the following funciton.  Where required update the function so all test behave as expected.\n",
        "\n",
        "\n",
        "## Function to test"
      ],
      "metadata": {
        "id": "LIfoDVzKX7uK"
      }
    },
    {
      "cell_type": "code",
      "source": [
        "def divide(x, y):\n",
        "    '''Divide first by second number'''\n",
        "    if ((type(x) == int) and (type(y) == int)):\n",
        "       return x / y\n",
        "    return(\"not a number\")"
      ],
      "metadata": {
        "id": "YH9gDoOYvKwg"
      },
      "execution_count": 5,
      "outputs": []
    },
    {
      "cell_type": "markdown",
      "source": [
        "## Test Table\n",
        "\n",
        "List you test cases here."
      ],
      "metadata": {
        "id": "JYSZ-53nLF6n"
      }
    },
    {
      "cell_type": "code",
      "source": [
        "assert divide('2',1) == 'not a number'\n"
      ],
      "metadata": {
        "id": "DMTITEmbLE_Z"
      },
      "execution_count": 6,
      "outputs": []
    },
    {
      "cell_type": "code",
      "source": [
        "def divide(x, y):\n",
        "    '''Divide first by second number'''\n",
        "    return x / y"
      ],
      "metadata": {
        "id": "Yq398KIjTXuC"
      },
      "execution_count": 7,
      "outputs": []
    },
    {
      "cell_type": "code",
      "source": [
        "assert divide(2,1) == 2\n",
        "assert divide(6,2) == 3"
      ],
      "metadata": {
        "id": "iIkZEiesTZwQ"
      },
      "execution_count": 9,
      "outputs": []
    },
    {
      "cell_type": "code",
      "source": [
        "def divide(x, y):\n",
        "    '''Divide first by second number'''\n",
        "    if ((type(x) == int or type(x) == float) and (type(y) == int) or type(y) == float):\n",
        "       return x / y\n",
        "    return(\"not a number\")"
      ],
      "metadata": {
        "id": "e12AOTVjTqjM"
      },
      "execution_count": 11,
      "outputs": []
    },
    {
      "cell_type": "code",
      "source": [
        "assert divide(2.6,2) == 1.3\n",
        "assert divide(4.6,4) == 1.15"
      ],
      "metadata": {
        "id": "i5MDUWYVTsdk"
      },
      "execution_count": 13,
      "outputs": []
    },
    {
      "cell_type": "code",
      "source": [
        "def isnumber(x):\n",
        "  return(type(x) == int or type(x) == float)\n",
        "def divide(x, y):\n",
        "    '''Divide first by second number'''\n",
        "    if (isnumber(x) and isnumber(y)):\n",
        "       return x / y\n",
        "    return(\"not a number\")"
      ],
      "metadata": {
        "id": "Pyusk93YWXF4"
      },
      "execution_count": 14,
      "outputs": []
    },
    {
      "cell_type": "code",
      "source": [
        "assert divide('one','1') == 'not a number'\n",
        "assert divide([2],[2]) == 'not a number'\n",
        "assert divide({2},{2}) == 'not a number'\n",
        "assert divide(6,2) == 3\n",
        "assert divide(-6,-3) == 2"
      ],
      "metadata": {
        "id": "X4bKQf4BXy6M"
      },
      "execution_count": 15,
      "outputs": []
    }
  ]
}