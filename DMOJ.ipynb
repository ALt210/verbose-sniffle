{
  "nbformat": 4,
  "nbformat_minor": 0,
  "metadata": {
    "colab": {
      "name": "DMOJ.ipynb",
      "provenance": [],
      "authorship_tag": "ABX9TyOO3fQltBHjBCQ2ozpfN+W1",
      "include_colab_link": true
    },
    "kernelspec": {
      "name": "python3",
      "display_name": "Python 3"
    },
    "language_info": {
      "name": "python"
    }
  },
  "cells": [
    {
      "cell_type": "markdown",
      "metadata": {
        "id": "view-in-github",
        "colab_type": "text"
      },
      "source": [
        "<a href=\"https://colab.research.google.com/github/ALt210/verbose-sniffle/blob/main/DMOJ.ipynb\" target=\"_parent\"><img src=\"https://colab.research.google.com/assets/colab-badge.svg\" alt=\"Open In Colab\"/></a>"
      ]
    },
    {
      "cell_type": "code",
      "execution_count": 1,
      "metadata": {
        "colab": {
          "base_uri": "https://localhost:8080/"
        },
        "id": "4HdrhYIIrqk8",
        "outputId": "aa3fcdd5-187e-4174-a1d9-4430e90dbc7e"
      },
      "outputs": [
        {
          "output_type": "stream",
          "name": "stdout",
          "text": [
            "enter the monthly megabyte10\n",
            "enter the number of month3\n",
            "enter the amount of megabyte used4\n",
            "the total is:  36\n",
            "enter the amount of megabyte used6\n",
            "the total is:  30\n",
            "enter the amount of megabyte used2\n",
            "the total is:  28\n"
          ]
        }
      ],
      "source": [
        "x = int(input(\"enter the monthly megabyte\"))\n",
        "n = int(input(\"enter the number of month\"))\n",
        "\n",
        "total = x * (n+1)\n",
        "\n",
        "for i in range(n):\n",
        "  used = int(input(\"enter the amount of megabyte used\"))\n",
        "  total = total - used\n",
        "  print(\"the total is: \", total)"
      ]
    }
  ]
}